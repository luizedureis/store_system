{
 "cells": [
  {
   "cell_type": "code",
   "execution_count": 39,
   "metadata": {},
   "outputs": [
    {
     "name": "stdout",
     "output_type": "stream",
     "text": [
      "garrafa de agua\n",
      "maquina de lavar\n",
      "garrafinha\n"
     ]
    }
   ],
   "source": [
    "import tkinter as tk\n",
    "from tkinter import ttk\n",
    "from tkinter import *\n",
    "\n",
    "class App(tk.Tk):\n",
    "    \n",
    "    def __init__(self):\n",
    "        super().__init__()\n",
    "        self.screen_atributes()\n",
    "\n",
    "        # This parte create the Frame with the buttons and input boxes\n",
    "        container_contents = tk.Frame(self)\n",
    "        container_contents.pack(side=\"left\")\n",
    "\n",
    "        self.Frame_add_item(container_contents)\n",
    "\n",
    "        self.Frame_add_infoSystem(container_contents)\n",
    "\n",
    "\n",
    "        # self.label_output_info = tk.Label(self,bg='black').pack(side='right',ipadx=200,ipady=315,padx=30)\n",
    "        \n",
    "        self.screen = tk.Label(self,bg='grey',text=\"\")\n",
    "        self.screen.pack(side=\"right\",expand=True,ipadx=390,ipady=325)\n",
    "\n",
    "    def Frame_add_item(self,container_contents):\n",
    "        container=tk.Label(container_contents)\n",
    "        container.pack(fill='y')\n",
    "        self.button_input_item = Button(container,text='Add item',command=self.add_item_screen).pack(side='left',padx=10)\n",
    "        \n",
    "        self.entry_itens=tk.StringVar()\n",
    "        self.entry=Entry(container,textvariable=self.entry_itens).pack(side='right',padx=20,ipadx=100)\n",
    "    def Frame_add_infoSystem(self,container_contents):\n",
    "        container=tk.Label(container_contents)\n",
    "        container.pack(fill='y')\n",
    "        self.buttonInsertInfo = Button(container,text='insert info').pack(side='left',padx=10)\n",
    "        self.buttonFinaliseSallse = Button(container,text='End sale').pack(side='right',padx=10)\n",
    "\n",
    "    def add_item_screen(self):\n",
    "        print(self.entry_itens.get())\n",
    "        self.linha=tk.Label(self.screen,text=self.entry_itens.get(),bg='red').pack()\n",
    "        \n",
    "    def screen_atributes(self):\n",
    "        self.title('Test system storege info')\n",
    "        \n",
    "\n",
    "    \n",
    "app = App()\n",
    "app.mainloop()"
   ]
  },
  {
   "cell_type": "code",
   "execution_count": 45,
   "metadata": {},
   "outputs": [
    {
     "ename": "KeyboardInterrupt",
     "evalue": "",
     "output_type": "error",
     "traceback": [
      "\u001b[1;31m---------------------------------------------------------------------------\u001b[0m",
      "\u001b[1;31mKeyboardInterrupt\u001b[0m                         Traceback (most recent call last)",
      "\u001b[1;32m<ipython-input-45-f3b194a126a8>\u001b[0m in \u001b[0;36m<module>\u001b[1;34m\u001b[0m\n\u001b[0;32m     32\u001b[0m \u001b[1;33m\u001b[0m\u001b[0m\n\u001b[0;32m     33\u001b[0m \u001b[0mapp\u001b[0m \u001b[1;33m=\u001b[0m \u001b[0mApp\u001b[0m\u001b[1;33m(\u001b[0m\u001b[1;33m)\u001b[0m\u001b[1;33m\u001b[0m\u001b[1;33m\u001b[0m\u001b[0m\n\u001b[1;32m---> 34\u001b[1;33m \u001b[0mapp\u001b[0m\u001b[1;33m.\u001b[0m\u001b[0mmainloop\u001b[0m\u001b[1;33m(\u001b[0m\u001b[1;33m)\u001b[0m\u001b[1;33m\u001b[0m\u001b[1;33m\u001b[0m\u001b[0m\n\u001b[0m",
      "\u001b[1;32mc:\\Users\\Sea Group\\anaconda3\\anaconda\\lib\\tkinter\\__init__.py\u001b[0m in \u001b[0;36mmainloop\u001b[1;34m(self, n)\u001b[0m\n\u001b[0;32m   1427\u001b[0m     \u001b[1;32mdef\u001b[0m \u001b[0mmainloop\u001b[0m\u001b[1;33m(\u001b[0m\u001b[0mself\u001b[0m\u001b[1;33m,\u001b[0m \u001b[0mn\u001b[0m\u001b[1;33m=\u001b[0m\u001b[1;36m0\u001b[0m\u001b[1;33m)\u001b[0m\u001b[1;33m:\u001b[0m\u001b[1;33m\u001b[0m\u001b[1;33m\u001b[0m\u001b[0m\n\u001b[0;32m   1428\u001b[0m         \u001b[1;34m\"\"\"Call the mainloop of Tk.\"\"\"\u001b[0m\u001b[1;33m\u001b[0m\u001b[1;33m\u001b[0m\u001b[0m\n\u001b[1;32m-> 1429\u001b[1;33m         \u001b[0mself\u001b[0m\u001b[1;33m.\u001b[0m\u001b[0mtk\u001b[0m\u001b[1;33m.\u001b[0m\u001b[0mmainloop\u001b[0m\u001b[1;33m(\u001b[0m\u001b[0mn\u001b[0m\u001b[1;33m)\u001b[0m\u001b[1;33m\u001b[0m\u001b[1;33m\u001b[0m\u001b[0m\n\u001b[0m\u001b[0;32m   1430\u001b[0m \u001b[1;33m\u001b[0m\u001b[0m\n\u001b[0;32m   1431\u001b[0m     \u001b[1;32mdef\u001b[0m \u001b[0mquit\u001b[0m\u001b[1;33m(\u001b[0m\u001b[0mself\u001b[0m\u001b[1;33m)\u001b[0m\u001b[1;33m:\u001b[0m\u001b[1;33m\u001b[0m\u001b[1;33m\u001b[0m\u001b[0m\n",
      "\u001b[1;31mKeyboardInterrupt\u001b[0m: "
     ]
    },
    {
     "ename": "",
     "evalue": "",
     "output_type": "error",
     "traceback": [
      "\u001b[1;31mThe Kernel crashed while executing code in the the current cell or a previous cell. Please review the code in the cell(s) to identify a possible cause of the failure. Click <a href='https://aka.ms/vscodeJupyterKernelCrash'>here</a> for more info. View Jupyter <a href='command:jupyter.viewOutput'>log</a> for further details."
     ]
    }
   ],
   "source": [
    "import tkinter as tk\n",
    "from tkinter import ttk\n",
    "from tkinter import *\n",
    "\n",
    "class App(tk.Tk):\n",
    "    \n",
    "    def __init__(self):\n",
    "        super().__init__()\n",
    "        self.screen_atributes()\n",
    "\n",
    "        # This parte create the buttons and the input box for the itens name\n",
    "        self.Frame_add_item()\n",
    "\n",
    "        # This create the parte to insert itens info in the system\n",
    "        self.Insert_info_system()\n",
    "\n",
    "\n",
    "        container = tk.Frame(self,bg='black')\n",
    "        container.grid(column=6,row=1,ipadx=390,ipady=310,padx=20,pady=5)\n",
    "\n",
    "    def Frame_add_item(self):\n",
    "        # self.label_contents = tk.Frame(self,bg=\n",
    "        self.button_input_item = Button(self,text='Add item').grid(column=1,row=1,padx=10)\n",
    "        self.register_itens = tk.Entry(self).grid(column=2,row=1,padx=10,ipadx=100)\n",
    "    \n",
    "    def Insert_info_system(self):\n",
    "        self.button_input_infoSystem = Button(self,text=\"insert item\").grid(column=1,row=2)\n",
    "    def screen_atributes(self):\n",
    "        self.title('Test system storege info')\n",
    "        \n",
    "\n",
    "    \n",
    "app = App()\n",
    "app.mainloop()"
   ]
  }
 ],
 "metadata": {
  "kernelspec": {
   "display_name": "base",
   "language": "python",
   "name": "python3"
  },
  "language_info": {
   "codemirror_mode": {
    "name": "ipython",
    "version": 3
   },
   "file_extension": ".py",
   "mimetype": "text/x-python",
   "name": "python",
   "nbconvert_exporter": "python",
   "pygments_lexer": "ipython3",
   "version": "3.8.8"
  },
  "orig_nbformat": 4,
  "vscode": {
   "interpreter": {
    "hash": "cf3f97d741c99d1caf1e56efb900ab0626f8a3924a09a170b60febeb87130d0f"
   }
  }
 },
 "nbformat": 4,
 "nbformat_minor": 2
}
