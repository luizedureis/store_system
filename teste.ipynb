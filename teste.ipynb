{
 "cells": [
  {
   "cell_type": "code",
   "execution_count": 25,
   "metadata": {},
   "outputs": [],
   "source": [
    "import tkinter as tk\n",
    "from tkinter import ttk\n",
    "from tkinter.messagebox import showinfo\n",
    "\n",
    "class App(tk.Tk):\n",
    "\n",
    "    def __init__(self):\n",
    "        super().__init__()\n",
    "        self.screen_atributes()\n",
    "\n",
    "\n",
    "        self.label_output_info = tk.Label(bg='black').pack(side='right',ipadx=200,ipady=315,padx=30)\n",
    "        self.label_contents = tk.Label(bg='blue').pack(side='left',ipadx=300,ipady=315,padx=30)\n",
    "\n",
    "\n",
    "    def screen_atributes(self):\n",
    "        self.title('Test system storege info')\n",
    "        # self.attributes('-fullscreen', True)\n",
    "        \n",
    "app = App()\n",
    "app.mainloop()"
   ]
  }
 ],
 "metadata": {
  "kernelspec": {
   "display_name": "base",
   "language": "python",
   "name": "python3"
  },
  "language_info": {
   "codemirror_mode": {
    "name": "ipython",
    "version": 3
   },
   "file_extension": ".py",
   "mimetype": "text/x-python",
   "name": "python",
   "nbconvert_exporter": "python",
   "pygments_lexer": "ipython3",
   "version": "3.8.8"
  },
  "orig_nbformat": 4,
  "vscode": {
   "interpreter": {
    "hash": "cf3f97d741c99d1caf1e56efb900ab0626f8a3924a09a170b60febeb87130d0f"
   }
  }
 },
 "nbformat": 4,
 "nbformat_minor": 2
}
